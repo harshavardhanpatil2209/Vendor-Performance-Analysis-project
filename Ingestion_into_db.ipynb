{
 "cells": [
  {
   "cell_type": "code",
   "execution_count": null,
   "id": "3ed43734-09f6-4710-bed0-5053efd21ffb",
   "metadata": {},
   "outputs": [],
   "source": [
    "import pandas as pd\n",
    "import os\n",
    "from sqlalchemy import create_engine\n",
    "import logging\n",
    "import time\n",
    "\n",
    "\n",
    "'''Creating logs format'''\n",
    "logging.basicConfig(\n",
    "    filename=\"logs/ingestion_db.log\",\n",
    "    level=logging.DEBUG,\n",
    "    format=\"%(asctime)s-%(levelname)s-%(message)s\",\n",
    "    filemode=\"a\"\n",
    ")\n",
    "\n",
    "\n",
    "'''Creating database'''\n",
    "engine = create_engine('sqlite:///inventory.db')\n",
    "\n",
    "\n",
    "'''This function will load csv's as dataframe and ingest into db'''\n",
    "def load_raw_data():\n",
    "    start = time.time()\n",
    "    for file in os.listdir('data'):\n",
    "        if 'csv' in file:\n",
    "            df = pd.read_csv('data/'+ file)\n",
    "            logging.info(f'Ingesting {file} in db')\n",
    "            ingest_db(df, file[:-4], engine)\n",
    "    end = time.time()\n",
    "    total_time = (end-start)/60\n",
    "    logging.info('----------------Ingestion Complete----------------')\n",
    "    logging.info(f'Total time taken: {total_time} minutes')\n",
    "    \n",
    "\n",
    "'''This function will ingest dataframes into db table'''\n",
    "def ingest_db(df,table_name,engine):\n",
    "    df.to_sql(table_name, con=engine,if_exists='replace',index=False)\n",
    "\n",
    "\n",
    "if __name__=='__main__':\n",
    "    load_raw_data()\n"
   ]
  }
 ],
 "metadata": {
  "kernelspec": {
   "display_name": "Python 3 (ipykernel)",
   "language": "python",
   "name": "python3"
  },
  "language_info": {
   "codemirror_mode": {
    "name": "ipython",
    "version": 3
   },
   "file_extension": ".py",
   "mimetype": "text/x-python",
   "name": "python",
   "nbconvert_exporter": "python",
   "pygments_lexer": "ipython3",
   "version": "3.13.2"
  }
 },
 "nbformat": 4,
 "nbformat_minor": 5
}
